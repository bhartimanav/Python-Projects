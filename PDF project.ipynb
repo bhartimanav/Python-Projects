{
 "cells": [
  {
   "cell_type": "code",
   "execution_count": 2,
   "id": "ebeadf60",
   "metadata": {},
   "outputs": [],
   "source": [
    "import tkinter as tk\n",
    "from tkinter import filedialog\n",
    "from tkinter import messagebox\n",
    "from PIL import Image\n",
    "import os\n",
    "# function to convert images to PDF\n",
    "def images_to_pdf(images, pdf_name):\n",
    "    try:\n",
    "        # create a new pdf file\n",
    "        pdf = Image.open(images[0])\n",
    "        pdf.save(pdf_name, \"PDF\" ,resolution=100.0, save_all=True, append_images=images[1:])\n",
    "        messagebox.showinfo(\"Success\", \"Images have been successfully converted to PDF.\")\n",
    "    except Exception as e:\n",
    "        messagebox.showerror(\"Error\", \"Failed to convert images to PDF.\\nError: \" + str(e))\n",
    "# function to select images\n",
    "def select_images():\n",
    "    images = filedialog.askopenfilenames(title=\"Select Images\", filetypes=((\"Image files\", \"*.jpg;*.jpeg;*.png\"),(\"All files\", \"*.*\")), initialdir = \"C:/\")\n",
    "    return images\n",
    "# function to select pdf name and path\n",
    "def select_pdf():\n",
    "    pdf = filedialog.asksaveasfilename(title=\"Save PDF As\", defaultextension=\".pdf\", initialdir = \"C:/\", filetypes=((\"PDF files\", \"*.pdf\"),(\"All files\", \"*.*\")))\n",
    "    return pdf\n",
    "# create GUI\n",
    "root = tk.Tk()\n",
    "root.title(\"Convert Images to PDF\")\n",
    "select_images_btn = tk.Button(root, text=\"Select Images\", command=select_images)\n",
    "select_pdf_btn = tk.Button(root, text=\"Select PDF\", command=select_pdf)\n",
    "convert_btn = tk.Button(root, text=\"Convert\", command=lambda: images_to_pdf(select_images(), select_pdf()))\n",
    "select_images_btn.pack()\n",
    "select_pdf_btn.pack()\n",
    "convert_btn.pack()\n",
    "root.mainloop()"
   ]
  },
  {
   "cell_type": "code",
   "execution_count": null,
   "id": "8c956e44",
   "metadata": {},
   "outputs": [],
   "source": []
  },
  {
   "cell_type": "code",
   "execution_count": null,
   "id": "9a9d83a3",
   "metadata": {},
   "outputs": [],
   "source": []
  }
 ],
 "metadata": {
  "kernelspec": {
   "display_name": "Python 3 (ipykernel)",
   "language": "python",
   "name": "python3"
  },
  "language_info": {
   "codemirror_mode": {
    "name": "ipython",
    "version": 3
   },
   "file_extension": ".py",
   "mimetype": "text/x-python",
   "name": "python",
   "nbconvert_exporter": "python",
   "pygments_lexer": "ipython3",
   "version": "3.9.13"
  }
 },
 "nbformat": 4,
 "nbformat_minor": 5
}
